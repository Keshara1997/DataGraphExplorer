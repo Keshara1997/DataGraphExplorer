{
  "nbformat": 4,
  "nbformat_minor": 0,
  "metadata": {
    "colab": {
      "provenance": [],
      "authorship_tag": "ABX9TyOBj99Y/0hNmyv2MQu15CbO",
      "include_colab_link": true
    },
    "kernelspec": {
      "name": "python3",
      "display_name": "Python 3"
    },
    "language_info": {
      "name": "python"
    }
  },
  "cells": [
    {
      "cell_type": "markdown",
      "metadata": {
        "id": "view-in-github",
        "colab_type": "text"
      },
      "source": [
        "<a href=\"https://colab.research.google.com/github/Keshara1997/DataGraphExplorer/blob/main/DataGraphExplorer.ipynb\" target=\"_parent\"><img src=\"https://colab.research.google.com/assets/colab-badge.svg\" alt=\"Open In Colab\"/></a>"
      ]
    },
    {
      "cell_type": "code",
      "source": [],
      "metadata": {
        "id": "V79QwOPTk2ZN"
      },
      "execution_count": null,
      "outputs": []
    },
    {
      "cell_type": "markdown",
      "source": [
        "\n",
        "For this challenge, you need to create a multi-function calculator using Python that take input and do the following:\n",
        "\n",
        "Get a .csv file in three ways\n",
        "uploading it from the local computer\n",
        "getting a url from user input\n",
        "putting the url in the code\n",
        "Use the Pandas library to save the .csv as a dataframe\n",
        "Print headings and the first two rows\n",
        "Store the column names as a list\n",
        "Choose one or two columns and convert the data to Numpy arrays\n",
        "Display data as a scatter plot or a line graph\n",
        "Be able to do this for different column combinations, and interpret the graphs"
      ],
      "metadata": {
        "id": "ugqg_YCckqoY"
      }
    },
    {
      "cell_type": "code",
      "execution_count": null,
      "metadata": {
        "id": "BSOgCDpTaoFt",
        "colab": {
          "base_uri": "https://localhost:8080/"
        },
        "outputId": "c7696ca7-24e6-4b8f-ef79-d3c455fdd7c6"
      },
      "outputs": [
        {
          "output_type": "stream",
          "name": "stdout",
          "text": [
            "Choose how to load the .csv file:\n",
            "1. From Local Computer\n",
            "2. From URL\n",
            "3. Use .csv file path in code\n"
          ]
        }
      ],
      "source": [
        "import pandas as pd\n",
        "import numpy as np\n",
        "import matplotlib.pyplot as plt\n",
        "\n",
        "def load_csv_from_local():\n",
        "    file_path = input(\"Enter the path of the .csv file on your local computer: \")\n",
        "    try:\n",
        "        df = pd.read_csv(file_path)\n",
        "        return df\n",
        "    except FileNotFoundError:\n",
        "        print(\"File not found. Please check the file path and try again.\")\n",
        "        return None\n",
        "\n",
        "def load_csv_from_url():\n",
        "    url = input(\"Enter the URL of the .csv file: \")\n",
        "    try:\n",
        "        df = pd.read_csv(url)\n",
        "        return df\n",
        "    except Exception as e:\n",
        "        print(f\"Error loading data from URL: {e}\")\n",
        "        return None\n",
        "\n",
        "def load_csv_from_code():\n",
        "    # Replace the file_path with the URL or file path you want to use directly in the code\n",
        "    file_path = \"your_file_path_or_url.csv\"\n",
        "    try:\n",
        "        df = pd.read_csv(file_path)\n",
        "        return df\n",
        "    except Exception as e:\n",
        "        print(f\"Error loading data from code: {e}\")\n",
        "        return None\n",
        "\n",
        "def display_data(df):\n",
        "    print(\"DataFrame Head:\")\n",
        "    print(df.head(2))\n",
        "\n",
        "def choose_columns_and_plot(df):\n",
        "    print(\"Available columns:\")\n",
        "    print(df.columns.tolist())\n",
        "\n",
        "    col1 = input(\"Enter the name of the first column: \")\n",
        "    col2 = input(\"Enter the name of the second column (Press Enter if you want only one column): \")\n",
        "\n",
        "    plt.figure(figsize=(10, 6))\n",
        "    if col2:\n",
        "        plt.scatter(df[col1], df[col2])\n",
        "        plt.xlabel(col1)\n",
        "        plt.ylabel(col2)\n",
        "        plt.title(f\"{col1} vs. {col2} Scatter Plot\")\n",
        "    else:\n",
        "        plt.plot(df[col1])\n",
        "        plt.xlabel(\"Index\")\n",
        "        plt.ylabel(col1)\n",
        "        plt.title(f\"{col1} Line Plot\")\n",
        "\n",
        "    plt.show()\n",
        "\n",
        "if __name__ == \"__main__\":\n",
        "    print(\"Choose how to load the .csv file:\")\n",
        "    print(\"1. From Local Computer\")\n",
        "    print(\"2. From URL\")\n",
        "    print(\"3. Use .csv file path in code\")\n",
        "\n",
        "    choice = int(input(\"Enter your choice (1/2/3): \"))\n",
        "\n",
        "    if choice == 1:\n",
        "        df = load_csv_from_local()\n",
        "    elif choice == 2:\n",
        "        df = load_csv_from_url()\n",
        "    elif choice == 3:\n",
        "        df = load_csv_from_code()\n",
        "    else:\n",
        "        print(\"Invalid choice. Please try again.\")\n",
        "        exit()\n",
        "\n",
        "    if df is not None:\n",
        "        display_data(df)\n",
        "        choose_columns_and_plot(df)\n"
      ]
    }
  ]
}